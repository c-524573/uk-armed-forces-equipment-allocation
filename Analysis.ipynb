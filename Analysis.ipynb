{
 "cells": [
  {
   "cell_type": "markdown",
   "id": "8fbefe50",
   "metadata": {},
   "source": [
    "# Analysis"
   ]
  },
  {
   "cell_type": "code",
   "execution_count": 43,
   "id": "031faf34",
   "metadata": {},
   "outputs": [],
   "source": [
    "import pandas as pd\n",
    "from millify import millify\n",
    "import matplotlib.pyplot as plt"
   ]
  },
  {
   "cell_type": "markdown",
   "id": "046ad127",
   "metadata": {},
   "source": [
    "## Load Datasets"
   ]
  },
  {
   "cell_type": "code",
   "execution_count": 2,
   "id": "9b3c49c9",
   "metadata": {},
   "outputs": [
    {
     "data": {
      "text/html": [
       "<div>\n",
       "<style scoped>\n",
       "    .dataframe tbody tr th:only-of-type {\n",
       "        vertical-align: middle;\n",
       "    }\n",
       "\n",
       "    .dataframe tbody tr th {\n",
       "        vertical-align: top;\n",
       "    }\n",
       "\n",
       "    .dataframe thead th {\n",
       "        text-align: right;\n",
       "    }\n",
       "</style>\n",
       "<table border=\"1\" class=\"dataframe\">\n",
       "  <thead>\n",
       "    <tr style=\"text-align: right;\">\n",
       "      <th></th>\n",
       "      <th>Fleet and Vessel type</th>\n",
       "      <th>Unit Cost</th>\n",
       "      <th>Historical Units</th>\n",
       "      <th>Current Units</th>\n",
       "      <th>New Units</th>\n",
       "      <th>Updated Units</th>\n",
       "    </tr>\n",
       "  </thead>\n",
       "  <tbody>\n",
       "    <tr>\n",
       "      <th>0</th>\n",
       "      <td>Ballistic Nuclear Submarine</td>\n",
       "      <td>9.710000e+09</td>\n",
       "      <td>4</td>\n",
       "      <td>4</td>\n",
       "      <td>NaN</td>\n",
       "      <td>NaN</td>\n",
       "    </tr>\n",
       "    <tr>\n",
       "      <th>1</th>\n",
       "      <td>Nuclear Submarine</td>\n",
       "      <td>5.710000e+09</td>\n",
       "      <td>7</td>\n",
       "      <td>6</td>\n",
       "      <td>NaN</td>\n",
       "      <td>NaN</td>\n",
       "    </tr>\n",
       "    <tr>\n",
       "      <th>2</th>\n",
       "      <td>Aircraft Carriers</td>\n",
       "      <td>4.500000e+09</td>\n",
       "      <td>0</td>\n",
       "      <td>2</td>\n",
       "      <td>NaN</td>\n",
       "      <td>NaN</td>\n",
       "    </tr>\n",
       "    <tr>\n",
       "      <th>3</th>\n",
       "      <td>Landing Platform Docks/Helicopters</td>\n",
       "      <td>2.250000e+08</td>\n",
       "      <td>3</td>\n",
       "      <td>2</td>\n",
       "      <td>NaN</td>\n",
       "      <td>NaN</td>\n",
       "    </tr>\n",
       "    <tr>\n",
       "      <th>4</th>\n",
       "      <td>Destroyers</td>\n",
       "      <td>1.050000e+09</td>\n",
       "      <td>6</td>\n",
       "      <td>6</td>\n",
       "      <td>NaN</td>\n",
       "      <td>NaN</td>\n",
       "    </tr>\n",
       "  </tbody>\n",
       "</table>\n",
       "</div>"
      ],
      "text/plain": [
       "                     Fleet and Vessel type     Unit Cost  Historical Units  \\\n",
       "0              Ballistic Nuclear Submarine  9.710000e+09                 4   \n",
       "1                        Nuclear Submarine  5.710000e+09                 7   \n",
       "2                        Aircraft Carriers  4.500000e+09                 0   \n",
       "3       Landing Platform Docks/Helicopters  2.250000e+08                 3   \n",
       "4                               Destroyers  1.050000e+09                 6   \n",
       "\n",
       "   Current Units  New Units  Updated Units  \n",
       "0              4        NaN            NaN  \n",
       "1              6        NaN            NaN  \n",
       "2              2        NaN            NaN  \n",
       "3              2        NaN            NaN  \n",
       "4              6        NaN            NaN  "
      ]
     },
     "execution_count": 2,
     "metadata": {},
     "output_type": "execute_result"
    }
   ],
   "source": [
    "vessels_df = pd.read_csv('Dataset/vessels.csv')\n",
    "vessels_df.head(5)"
   ]
  },
  {
   "cell_type": "code",
   "execution_count": 3,
   "id": "db68d80f",
   "metadata": {},
   "outputs": [
    {
     "data": {
      "text/html": [
       "<div>\n",
       "<style scoped>\n",
       "    .dataframe tbody tr th:only-of-type {\n",
       "        vertical-align: middle;\n",
       "    }\n",
       "\n",
       "    .dataframe tbody tr th {\n",
       "        vertical-align: top;\n",
       "    }\n",
       "\n",
       "    .dataframe thead th {\n",
       "        text-align: right;\n",
       "    }\n",
       "</style>\n",
       "<table border=\"1\" class=\"dataframe\">\n",
       "  <thead>\n",
       "    <tr style=\"text-align: right;\">\n",
       "      <th></th>\n",
       "      <th>Platform type and platform</th>\n",
       "      <th>Unit Cost</th>\n",
       "      <th>Historical Units</th>\n",
       "      <th>Current Units</th>\n",
       "      <th>New Units</th>\n",
       "      <th>Updated Units</th>\n",
       "    </tr>\n",
       "  </thead>\n",
       "  <tbody>\n",
       "    <tr>\n",
       "      <th>0</th>\n",
       "      <td>Challenger 2 Main Battle Tank</td>\n",
       "      <td>8125980.0</td>\n",
       "      <td>227</td>\n",
       "      <td>219</td>\n",
       "      <td>NaN</td>\n",
       "      <td>NaN</td>\n",
       "    </tr>\n",
       "    <tr>\n",
       "      <th>1</th>\n",
       "      <td>Ajax</td>\n",
       "      <td>9300000.0</td>\n",
       "      <td>0</td>\n",
       "      <td>128</td>\n",
       "      <td>NaN</td>\n",
       "      <td>NaN</td>\n",
       "    </tr>\n",
       "    <tr>\n",
       "      <th>2</th>\n",
       "      <td>Warrior [Note 6]</td>\n",
       "      <td>3900000.0</td>\n",
       "      <td>770</td>\n",
       "      <td>613</td>\n",
       "      <td>NaN</td>\n",
       "      <td>NaN</td>\n",
       "    </tr>\n",
       "    <tr>\n",
       "      <th>3</th>\n",
       "      <td>Coyote</td>\n",
       "      <td>350000.0</td>\n",
       "      <td>71</td>\n",
       "      <td>72</td>\n",
       "      <td>NaN</td>\n",
       "      <td>NaN</td>\n",
       "    </tr>\n",
       "    <tr>\n",
       "      <th>4</th>\n",
       "      <td>Foxhound</td>\n",
       "      <td>923000.0</td>\n",
       "      <td>398</td>\n",
       "      <td>395</td>\n",
       "      <td>NaN</td>\n",
       "      <td>NaN</td>\n",
       "    </tr>\n",
       "  </tbody>\n",
       "</table>\n",
       "</div>"
      ],
      "text/plain": [
       "                Platform type and platform  Unit Cost  Historical Units  \\\n",
       "0            Challenger 2 Main Battle Tank  8125980.0               227   \n",
       "1                                     Ajax  9300000.0                 0   \n",
       "2                         Warrior [Note 6]  3900000.0               770   \n",
       "3                                   Coyote   350000.0                71   \n",
       "4                                 Foxhound   923000.0               398   \n",
       "\n",
       "   Current Units  New Units  Updated Units  \n",
       "0            219        NaN            NaN  \n",
       "1            128        NaN            NaN  \n",
       "2            613        NaN            NaN  \n",
       "3             72        NaN            NaN  \n",
       "4            395        NaN            NaN  "
      ]
     },
     "execution_count": 3,
     "metadata": {},
     "output_type": "execute_result"
    }
   ],
   "source": [
    "land_equipment_df = pd.read_csv('Dataset/land_equipment.csv')\n",
    "land_equipment_df.head(5)"
   ]
  },
  {
   "cell_type": "code",
   "execution_count": 4,
   "id": "6f3443a7",
   "metadata": {},
   "outputs": [
    {
     "data": {
      "text/html": [
       "<div>\n",
       "<style scoped>\n",
       "    .dataframe tbody tr th:only-of-type {\n",
       "        vertical-align: middle;\n",
       "    }\n",
       "\n",
       "    .dataframe tbody tr th {\n",
       "        vertical-align: top;\n",
       "    }\n",
       "\n",
       "    .dataframe thead th {\n",
       "        text-align: right;\n",
       "    }\n",
       "</style>\n",
       "<table border=\"1\" class=\"dataframe\">\n",
       "  <thead>\n",
       "    <tr style=\"text-align: right;\">\n",
       "      <th></th>\n",
       "      <th>Platform Type</th>\n",
       "      <th>Unit Cost</th>\n",
       "      <th>Historical Units</th>\n",
       "      <th>Current Units</th>\n",
       "      <th>New Units</th>\n",
       "      <th>Updated Units</th>\n",
       "    </tr>\n",
       "  </thead>\n",
       "  <tbody>\n",
       "    <tr>\n",
       "      <th>0</th>\n",
       "      <td>A400M</td>\n",
       "      <td>138476100.0</td>\n",
       "      <td>7</td>\n",
       "      <td>22</td>\n",
       "      <td>NaN</td>\n",
       "      <td>NaN</td>\n",
       "    </tr>\n",
       "    <tr>\n",
       "      <th>1</th>\n",
       "      <td>Airseeker</td>\n",
       "      <td>293657988.0</td>\n",
       "      <td>2</td>\n",
       "      <td>3</td>\n",
       "      <td>NaN</td>\n",
       "      <td>NaN</td>\n",
       "    </tr>\n",
       "    <tr>\n",
       "      <th>2</th>\n",
       "      <td>C017 Globemaster</td>\n",
       "      <td>250428121.0</td>\n",
       "      <td>8</td>\n",
       "      <td>8</td>\n",
       "      <td>NaN</td>\n",
       "      <td>NaN</td>\n",
       "    </tr>\n",
       "    <tr>\n",
       "      <th>3</th>\n",
       "      <td>Poseidon</td>\n",
       "      <td>333000000.0</td>\n",
       "      <td>0</td>\n",
       "      <td>9</td>\n",
       "      <td>NaN</td>\n",
       "      <td>NaN</td>\n",
       "    </tr>\n",
       "    <tr>\n",
       "      <th>4</th>\n",
       "      <td>Lightning</td>\n",
       "      <td>119142857.0</td>\n",
       "      <td>4</td>\n",
       "      <td>35</td>\n",
       "      <td>NaN</td>\n",
       "      <td>NaN</td>\n",
       "    </tr>\n",
       "  </tbody>\n",
       "</table>\n",
       "</div>"
      ],
      "text/plain": [
       "           Platform Type    Unit Cost  Historical Units  Current Units  \\\n",
       "0                 A400M   138476100.0                 7             22   \n",
       "1              Airseeker  293657988.0                 2              3   \n",
       "2       C017 Globemaster  250428121.0                 8              8   \n",
       "3               Poseidon  333000000.0                 0              9   \n",
       "4              Lightning  119142857.0                 4             35   \n",
       "\n",
       "   New Units  Updated Units  \n",
       "0        NaN            NaN  \n",
       "1        NaN            NaN  \n",
       "2        NaN            NaN  \n",
       "3        NaN            NaN  \n",
       "4        NaN            NaN  "
      ]
     },
     "execution_count": 4,
     "metadata": {},
     "output_type": "execute_result"
    }
   ],
   "source": [
    "aircraft_df = pd.read_csv('Dataset/aircraft.csv')\n",
    "aircraft_df.head(5)"
   ]
  },
  {
   "cell_type": "code",
   "execution_count": 5,
   "id": "1e11fd79",
   "metadata": {},
   "outputs": [
    {
     "data": {
      "text/html": [
       "<div>\n",
       "<style scoped>\n",
       "    .dataframe tbody tr th:only-of-type {\n",
       "        vertical-align: middle;\n",
       "    }\n",
       "\n",
       "    .dataframe tbody tr th {\n",
       "        vertical-align: top;\n",
       "    }\n",
       "\n",
       "    .dataframe thead th {\n",
       "        text-align: right;\n",
       "    }\n",
       "</style>\n",
       "<table border=\"1\" class=\"dataframe\">\n",
       "  <thead>\n",
       "    <tr style=\"text-align: right;\">\n",
       "      <th></th>\n",
       "      <th>Platform Type</th>\n",
       "      <th>Unit Cost</th>\n",
       "      <th>Historical Units</th>\n",
       "      <th>Current Units</th>\n",
       "      <th>New Units</th>\n",
       "      <th>Updated Units</th>\n",
       "    </tr>\n",
       "  </thead>\n",
       "  <tbody>\n",
       "    <tr>\n",
       "      <th>0</th>\n",
       "      <td>Apache AH-64E</td>\n",
       "      <td>35860000.0</td>\n",
       "      <td>0</td>\n",
       "      <td>38</td>\n",
       "      <td>NaN</td>\n",
       "      <td>NaN</td>\n",
       "    </tr>\n",
       "    <tr>\n",
       "      <th>1</th>\n",
       "      <td>Chinook</td>\n",
       "      <td>100000000.0</td>\n",
       "      <td>60</td>\n",
       "      <td>54</td>\n",
       "      <td>NaN</td>\n",
       "      <td>NaN</td>\n",
       "    </tr>\n",
       "    <tr>\n",
       "      <th>2</th>\n",
       "      <td>Merlin HM2 [Note 12]</td>\n",
       "      <td>19000000.0</td>\n",
       "      <td>30</td>\n",
       "      <td>30</td>\n",
       "      <td>NaN</td>\n",
       "      <td>NaN</td>\n",
       "    </tr>\n",
       "    <tr>\n",
       "      <th>3</th>\n",
       "      <td>Merlin Mk3/3a/4/4a/iMk3</td>\n",
       "      <td>32280544.0</td>\n",
       "      <td>25</td>\n",
       "      <td>25</td>\n",
       "      <td>NaN</td>\n",
       "      <td>NaN</td>\n",
       "    </tr>\n",
       "    <tr>\n",
       "      <th>4</th>\n",
       "      <td>Puma</td>\n",
       "      <td>18000000.0</td>\n",
       "      <td>23</td>\n",
       "      <td>20</td>\n",
       "      <td>NaN</td>\n",
       "      <td>NaN</td>\n",
       "    </tr>\n",
       "  </tbody>\n",
       "</table>\n",
       "</div>"
      ],
      "text/plain": [
       "                  Platform Type    Unit Cost  Historical Units  Current Units  \\\n",
       "0                 Apache AH-64E   35860000.0                 0             38   \n",
       "1                       Chinook  100000000.0                60             54   \n",
       "2          Merlin HM2 [Note 12]   19000000.0                30             30   \n",
       "3       Merlin Mk3/3a/4/4a/iMk3   32280544.0                25             25   \n",
       "4                          Puma   18000000.0                23             20   \n",
       "\n",
       "   New Units  Updated Units  \n",
       "0        NaN            NaN  \n",
       "1        NaN            NaN  \n",
       "2        NaN            NaN  \n",
       "3        NaN            NaN  \n",
       "4        NaN            NaN  "
      ]
     },
     "execution_count": 5,
     "metadata": {},
     "output_type": "execute_result"
    }
   ],
   "source": [
    "rotor_df = pd.read_csv('Dataset/rotor.csv')\n",
    "rotor_df.head(5)"
   ]
  },
  {
   "cell_type": "markdown",
   "id": "a4df79f2",
   "metadata": {},
   "source": [
    "## Total Budget"
   ]
  },
  {
   "cell_type": "code",
   "execution_count": 7,
   "id": "49689bd2",
   "metadata": {},
   "outputs": [],
   "source": [
    "def count_total(dataframe):\n",
    "    total = 0\n",
    "\n",
    "    for i, row in dataframe.iterrows():\n",
    "        total += row['Current Units'] * row['Unit Cost']\n",
    "\n",
    "    return total"
   ]
  },
  {
   "cell_type": "code",
   "execution_count": 24,
   "id": "4ae7a00c",
   "metadata": {},
   "outputs": [
    {
     "name": "stdout",
     "output_type": "stream",
     "text": [
      "Vessel Total Cost: £104250000000.0 or £104B\n"
     ]
    }
   ],
   "source": [
    "vessels_total = count_total(vessels_df)\n",
    "print('Vessel Total Cost: £' + str(vessels_total), 'or £' + millify(vessels_total))"
   ]
  },
  {
   "cell_type": "code",
   "execution_count": 25,
   "id": "7c903beb",
   "metadata": {},
   "outputs": [
    {
     "name": "stdout",
     "output_type": "stream",
     "text": [
      "Land Equipment Total Cost: £9022165547.0 or £9B\n"
     ]
    }
   ],
   "source": [
    "land_equipment_total = count_total(land_equipment_df)\n",
    "print('Land Equipment Total Cost: £' + str(land_equipment_total), 'or £' + millify(land_equipment_total))"
   ]
  },
  {
   "cell_type": "code",
   "execution_count": 27,
   "id": "c8e1c648",
   "metadata": {},
   "outputs": [
    {
     "name": "stdout",
     "output_type": "stream",
     "text": [
      "Aircraft Total Cost: £33244870078.0 or £33B\n"
     ]
    }
   ],
   "source": [
    "aircraft_total = count_total(aircraft_df)\n",
    "print('Aircraft Total Cost: £' + str(aircraft_total), 'or £' + millify(aircraft_total))"
   ]
  },
  {
   "cell_type": "code",
   "execution_count": 28,
   "id": "fbe6f5eb",
   "metadata": {},
   "outputs": [
    {
     "name": "stdout",
     "output_type": "stream",
     "text": [
      "Helicopter Total Costs: £10030078976.0 or £ 10B\n"
     ]
    }
   ],
   "source": [
    "rotor_total = count_total(rotor_df)\n",
    "print('Helicopter Total Costs: £' + str(rotor_total), 'or £', millify(rotor_total))"
   ]
  },
  {
   "cell_type": "code",
   "execution_count": 30,
   "id": "a526c2f8",
   "metadata": {},
   "outputs": [
    {
     "name": "stdout",
     "output_type": "stream",
     "text": [
      "Total Budget: £156547114601.0 or £157B\n"
     ]
    }
   ],
   "source": [
    "total_budget = vessels_total + land_equipment_total + aircraft_total + rotor_total\n",
    "print('Total Budget: £' + str(total_budget), 'or £' + millify(total_budget))"
   ]
  },
  {
   "cell_type": "markdown",
   "id": "4752d54e",
   "metadata": {},
   "source": [
    "## Calculations"
   ]
  },
  {
   "cell_type": "code",
   "execution_count": 42,
   "id": "1ae4df86",
   "metadata": {},
   "outputs": [
    {
     "name": "stdout",
     "output_type": "stream",
     "text": [
      "Land Equipment Percentage of Total Budget: 5.76%\n"
     ]
    }
   ],
   "source": [
    "print('Land Equipment Percentage of Total Budget:', f'{(land_equipment_total / total_budget * 100):.2f}' + '%')"
   ]
  },
  {
   "cell_type": "code",
   "execution_count": 50,
   "id": "6923e202",
   "metadata": {},
   "outputs": [
    {
     "data": {
      "text/plain": [
       "([<matplotlib.patches.Wedge at 0x17421f070>,\n",
       "  <matplotlib.patches.Wedge at 0x174211f70>,\n",
       "  <matplotlib.patches.Wedge at 0x17421faf0>],\n",
       " [Text(-0.5478048498541116, 0.953891946960616, 'Vessels'),\n",
       "  Text(-0.37423824962893754, -1.034381811767139, 'Land Equipment'),\n",
       "  Text(0.7106170818522819, -0.8396566935240543, 'Air (aircraft & helicopter)')],\n",
       " [Text(-0.2988026453749699, 0.5203046983421541, '66.6%'),\n",
       "  Text(-0.2041299543430568, -0.564208260963894, '5.8%'),\n",
       "  Text(0.3876093173739719, -0.45799456010402956, '27.6%')])"
      ]
     },
     "execution_count": 50,
     "metadata": {},
     "output_type": "execute_result"
    },
    {
     "data": {
      "image/png": "[encoded data removed]",
      "text/plain": [
       "<Figure size 640x480 with 1 Axes>"
      ]
     },
     "metadata": {},
     "output_type": "display_data"
    }
   ],
   "source": [
    "plt.pie([vessels_total, land_equipment_total, aircraft_total + rotor_total],\n",
    "        labels=['Vessels', 'Land Equipment', 'Air (aircraft & helicopter)'],\n",
    "        autopct='%1.1f%%')"
   ]
  }
 ],
 "metadata": {
  "kernelspec": {
   "display_name": "IRP",
   "language": "python",
   "name": "python3"
  },
  "language_info": {
   "codemirror_mode": {
    "name": "ipython",
    "version": 3
   },
   "file_extension": ".py",
   "mimetype": "text/x-python",
   "name": "python",
   "nbconvert_exporter": "python",
   "pygments_lexer": "ipython3",
   "version": "3.9.18"
  }
 },
 "nbformat": 4,
 "nbformat_minor": 5
}
